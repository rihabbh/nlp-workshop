{
 "cells": [
  {
   "cell_type": "markdown",
   "metadata": {},
   "source": [
    "## Importer les librairies"
   ]
  },
  {
   "cell_type": "code",
   "execution_count": 2,
   "metadata": {},
   "outputs": [],
   "source": [
    "#! pip install numpy \n",
    "#! pip install pandas \n",
    "#! pip install matplotlib \n",
    "#! pip install plotly \n",
    "#! pip install nltk \n",
    "#! pip install textblob \n",
    "#! pip install wordcloud \n",
    "#! pip install scikit-learn\n",
    "#! pip install sklearn \n",
    "#! pip install openpyxl\n",
    "#! pip install nbformat==4.2.0\n",
    "#! python -m textblob.download_corpora\n"
   ]
  },
  {
   "cell_type": "code",
   "execution_count": 3,
   "metadata": {},
   "outputs": [],
   "source": [
    "# Basic Libraries 📚\n",
    "# --------------------------------------\n",
    "import numpy as np\n",
    "import pandas as pd\n",
    "import re\n",
    "\n",
    "# Plot library 📊\n",
    "# --------------------------------------\n",
    "import matplotlib.pyplot as plt\n",
    "import plotly.graph_objs as go\n",
    "import plotly.io as pio\n",
    "\n",
    "\n",
    "# NLP\n",
    "# --------------------------------------\n",
    "import nltk\n",
    "from nltk.corpus import stopwords\n",
    "from nltk.sentiment import SentimentIntensityAnalyzer\n",
    "from textblob import Word, TextBlob\n",
    "from wordcloud import WordCloud  # visualization of words\n",
    "from sklearn.feature_extraction.text import TfidfVectorizer\n",
    "from sklearn.feature_extraction.text import CountVectorizer\n",
    "\n",
    "\n",
    "# Metrics 📐\n",
    "# --------------------------------------\n",
    "from sklearn.model_selection import cross_val_score, GridSearchCV, cross_validate\n",
    "from sklearn.preprocessing import LabelEncoder\n",
    "\n",
    "\n",
    "# Machine Learning Models 🤖\n",
    "# --------------------------------------\n",
    "from sklearn.linear_model import LogisticRegression\n",
    "from sklearn.ensemble import RandomForestClassifier\n",
    "\n",
    "\n",
    "# Customize to Remove Warnings and Better Observation 🔧\n",
    "# --------------------------------------------------------\n",
    "from warnings import filterwarnings\n",
    "filterwarnings('ignore')\n",
    "pd.set_option('display.max_columns', None)\n",
    "pd.set_option('display.width', 200)\n",
    "pd.set_option('display.float_format', lambda x: '%.2f' % x)"
   ]
  },
  {
   "cell_type": "markdown",
   "metadata": {},
   "source": [
    "### Problèmatique\n",
    "\n",
    "Augmenter ses ventes en analysant les commentaires reçus sur des produits, et améliorer leurs caractéristiques en fonction des plaintes reçues. Conformément à cet objectif, les commentaires seront étiquetés en effectuant une analyse des sentiments et un modèle de classification sera créé avec les données étiquetées.\n",
    "\n",
    "### Les données\n",
    "\n",
    "L'ensemble de données comprend les commentaires faits pour un certain groupe de produits, le titre du commentaire, le nombre d'étoiles et les variables qui indiquent combien de personnes ont trouvé le commentaire utile.\n",
    "\n",
    "### Import du dataset :"
   ]
  },
  {
   "cell_type": "code",
   "execution_count": 4,
   "metadata": {},
   "outputs": [
    {
     "data": {
      "text/html": [
       "<div>\n",
       "<style scoped>\n",
       "    .dataframe tbody tr th:only-of-type {\n",
       "        vertical-align: middle;\n",
       "    }\n",
       "\n",
       "    .dataframe tbody tr th {\n",
       "        vertical-align: top;\n",
       "    }\n",
       "\n",
       "    .dataframe thead th {\n",
       "        text-align: right;\n",
       "    }\n",
       "</style>\n",
       "<table border=\"1\" class=\"dataframe\">\n",
       "  <thead>\n",
       "    <tr style=\"text-align: right;\">\n",
       "      <th></th>\n",
       "      <th>Star</th>\n",
       "      <th>HelpFul</th>\n",
       "      <th>Title</th>\n",
       "      <th>Review</th>\n",
       "    </tr>\n",
       "  </thead>\n",
       "  <tbody>\n",
       "    <tr>\n",
       "      <th>0</th>\n",
       "      <td>5</td>\n",
       "      <td>0</td>\n",
       "      <td>looks great</td>\n",
       "      <td>Happy with it</td>\n",
       "    </tr>\n",
       "    <tr>\n",
       "      <th>1</th>\n",
       "      <td>5</td>\n",
       "      <td>0</td>\n",
       "      <td>Pattern did not align between the two panels.</td>\n",
       "      <td>Good quality material however the panels are m...</td>\n",
       "    </tr>\n",
       "    <tr>\n",
       "      <th>2</th>\n",
       "      <td>5</td>\n",
       "      <td>0</td>\n",
       "      <td>Imagery is stretched. Still fun.</td>\n",
       "      <td>Product was fun for bedroom windows.&lt;br /&gt;Imag...</td>\n",
       "    </tr>\n",
       "    <tr>\n",
       "      <th>3</th>\n",
       "      <td>5</td>\n",
       "      <td>0</td>\n",
       "      <td>Que se ven elegantes muy finas</td>\n",
       "      <td>Lo unico que me gustaria es que sean un poco ...</td>\n",
       "    </tr>\n",
       "    <tr>\n",
       "      <th>4</th>\n",
       "      <td>5</td>\n",
       "      <td>0</td>\n",
       "      <td>Wow great purchase</td>\n",
       "      <td>Great bang for the buck I can't believe the qu...</td>\n",
       "    </tr>\n",
       "    <tr>\n",
       "      <th>5</th>\n",
       "      <td>5</td>\n",
       "      <td>0</td>\n",
       "      <td>Not for us</td>\n",
       "      <td>Looks different then photo</td>\n",
       "    </tr>\n",
       "    <tr>\n",
       "      <th>6</th>\n",
       "      <td>5</td>\n",
       "      <td>0</td>\n",
       "      <td>Perfect for spa room</td>\n",
       "      <td>Was exactly what i was looking for. Heavy mate...</td>\n",
       "    </tr>\n",
       "    <tr>\n",
       "      <th>7</th>\n",
       "      <td>5</td>\n",
       "      <td>0</td>\n",
       "      <td>Actually better than expected</td>\n",
       "      <td>Looking at the picture, I thought these curtai...</td>\n",
       "    </tr>\n",
       "    <tr>\n",
       "      <th>8</th>\n",
       "      <td>4</td>\n",
       "      <td>0</td>\n",
       "      <td>Not what expected</td>\n",
       "      <td>Much whiter than I thought it would be and was...</td>\n",
       "    </tr>\n",
       "    <tr>\n",
       "      <th>9</th>\n",
       "      <td>5</td>\n",
       "      <td>0</td>\n",
       "      <td>Pretty as a Picture</td>\n",
       "      <td>These are curtains just as the picture shows. ...</td>\n",
       "    </tr>\n",
       "    <tr>\n",
       "      <th>10</th>\n",
       "      <td>5</td>\n",
       "      <td>0</td>\n",
       "      <td>The best Christmas decoration I think I have e...</td>\n",
       "      <td>It blocks views from our living room and front...</td>\n",
       "    </tr>\n",
       "    <tr>\n",
       "      <th>11</th>\n",
       "      <td>4</td>\n",
       "      <td>0</td>\n",
       "      <td>The door images are crooked and rustic. Messes...</td>\n",
       "      <td>They are private when closed. Darkening to a p...</td>\n",
       "    </tr>\n",
       "    <tr>\n",
       "      <th>12</th>\n",
       "      <td>5</td>\n",
       "      <td>0</td>\n",
       "      <td>They weren’t  blackout curtains</td>\n",
       "      <td>They don’t block out light</td>\n",
       "    </tr>\n",
       "    <tr>\n",
       "      <th>13</th>\n",
       "      <td>4</td>\n",
       "      <td>0</td>\n",
       "      <td>Too sheer</td>\n",
       "      <td>Work fine for night curtains but to sheer for ...</td>\n",
       "    </tr>\n",
       "    <tr>\n",
       "      <th>14</th>\n",
       "      <td>5</td>\n",
       "      <td>0</td>\n",
       "      <td>They are pretty, sort of satiny curtains that ...</td>\n",
       "      <td></td>\n",
       "    </tr>\n",
       "  </tbody>\n",
       "</table>\n",
       "</div>"
      ],
      "text/plain": [
       "    Star  HelpFul                                              Title                                             Review\n",
       "0      5        0                                        looks great                                      Happy with it\n",
       "1      5        0      Pattern did not align between the two panels.  Good quality material however the panels are m...\n",
       "2      5        0                   Imagery is stretched. Still fun.  Product was fun for bedroom windows.<br />Imag...\n",
       "3      5        0                     Que se ven elegantes muy finas   Lo unico que me gustaria es que sean un poco ...\n",
       "4      5        0                                 Wow great purchase  Great bang for the buck I can't believe the qu...\n",
       "5      5        0                                         Not for us                         Looks different then photo\n",
       "6      5        0                               Perfect for spa room  Was exactly what i was looking for. Heavy mate...\n",
       "7      5        0                      Actually better than expected  Looking at the picture, I thought these curtai...\n",
       "8      4        0                                  Not what expected  Much whiter than I thought it would be and was...\n",
       "9      5        0                                Pretty as a Picture  These are curtains just as the picture shows. ...\n",
       "10     5        0  The best Christmas decoration I think I have e...  It blocks views from our living room and front...\n",
       "11     4        0  The door images are crooked and rustic. Messes...  They are private when closed. Darkening to a p...\n",
       "12     5        0                    They weren’t  blackout curtains                         They don’t block out light\n",
       "13     4        0                                          Too sheer  Work fine for night curtains but to sheer for ...\n",
       "14     5        0  They are pretty, sort of satiny curtains that ...                                                   "
      ]
     },
     "execution_count": 4,
     "metadata": {},
     "output_type": "execute_result"
    }
   ],
   "source": [
    "df = pd.read_excel(\"amazon.xlsx\")\n",
    "df.head(15)"
   ]
  },
  {
   "cell_type": "markdown",
   "metadata": {},
   "source": [
    "#### Suppression des nulls"
   ]
  },
  {
   "cell_type": "code",
   "execution_count": 5,
   "metadata": {},
   "outputs": [
    {
     "name": "stdout",
     "output_type": "stream",
     "text": [
      "Il y a 18 avis sans commentaire(s)\n"
     ]
    }
   ],
   "source": [
    "print(\"Il y a\",df['Review'].isnull().sum(),\"avis sans commentaire(s)\")"
   ]
  },
  {
   "cell_type": "code",
   "execution_count": 6,
   "metadata": {},
   "outputs": [
    {
     "data": {
      "text/plain": [
       "Star        0\n",
       "HelpFul     0\n",
       "Title      43\n",
       "Review      0\n",
       "dtype: int64"
      ]
     },
     "execution_count": 6,
     "metadata": {},
     "output_type": "execute_result"
    }
   ],
   "source": [
    "df.dropna(subset=['Review'], inplace=True)\n",
    "df.isnull().sum()"
   ]
  },
  {
   "cell_type": "markdown",
   "metadata": {},
   "source": [
    "## Pré Traitement du texte"
   ]
  },
  {
   "cell_type": "markdown",
   "metadata": {},
   "source": [
    "### Minuscule"
   ]
  },
  {
   "cell_type": "code",
   "execution_count": 7,
   "metadata": {},
   "outputs": [
    {
     "name": "stdout",
     "output_type": "stream",
     "text": [
      "0                                        Happy with it\n",
      "1    Good quality material however the panels are m...\n",
      "2    Product was fun for bedroom windows.<br />Imag...\n",
      "3     Lo unico que me gustaria es que sean un poco ...\n",
      "4    Great bang for the buck I can't believe the qu...\n",
      "Name: Review, dtype: object\n"
     ]
    },
    {
     "data": {
      "text/plain": [
       "0                                        happy with it\n",
       "1    good quality material however the panels are m...\n",
       "2    product was fun for bedroom windows.<br />imag...\n",
       "3     lo unico que me gustaria es que sean un poco ...\n",
       "4    great bang for the buck i can't believe the qu...\n",
       "Name: Review, dtype: object"
      ]
     },
     "execution_count": 7,
     "metadata": {},
     "output_type": "execute_result"
    }
   ],
   "source": [
    "# to put all the characters in a standard\n",
    "print(df['Review'].head())\n",
    "df['Review'] = df['Review'].str.lower()  # make all lowercase\n",
    "df['Review'].head()"
   ]
  },
  {
   "cell_type": "markdown",
   "metadata": {},
   "source": [
    "### Ponctuation\n",
    "\n",
    "Tout comme les majuscules et les minuscules, les signes de ponctuation ne contiennent pas de valeur de mesure. Par exemple, si nous pensons que nous faisons un exemple de classification, il y a 2 avis, l'un d'eux a beaucoup plus de points/virgules. Dans cette situation, nous n'attendons AUCUN modèle des ponctuations. Bien qu'il s'agisse de l'approche courante, elle peut varier en fonction du problème.\n"
   ]
  },
  {
   "cell_type": "code",
   "execution_count": 16,
   "metadata": {},
   "outputs": [
    {
     "name": "stdout",
     "output_type": "stream",
     "text": [
      "0                                                happy\n",
      "1       good quality material however panel mi matched\n",
      "2    product fun bedroom window imagery bit stretch...\n",
      "3    lo unico que gustaria e que sean un poco ma la...\n",
      "4    great bang buck believe quality material vibra...\n",
      "Name: Review, dtype: object\n",
      "0                                                happy\n",
      "1       good quality material however panel mi matched\n",
      "2    product fun bedroom window imagery bit stretch...\n",
      "3    lo unico que gustaria e que sean un poco ma la...\n",
      "4    great bang buck believe quality material vibra...\n",
      "Name: Review, dtype: object\n"
     ]
    }
   ],
   "source": [
    "# check sentences and replace punctions with spaces\n",
    "print(df['Review'].head())\n",
    "\n",
    "df['Review'] =  df['Review'].apply(lambda x: re.sub(r'[^\\w\\s]',' ', x))\n",
    "\n",
    "\n",
    "print(df['Review'].head())\n"
   ]
  },
  {
   "cell_type": "markdown",
   "metadata": {},
   "source": [
    "### Chiffres\n",
    "\n",
    "RAPPEL :\n",
    "Comme ci-dessus, notre problématique peut avoir une discrimination sur les nombres. Par exemple, inclure beaucoup ou moins de nombres peut être crucial pour le problème. Dans ce type de problème, la suppression des nombres n'est pas une méthode à utiliser. Dans notre exemple, nous supprimons les nombres car ils ne sont pas significatifs.\n",
    "\n",
    "L'approche générale consiste à supprimer toutes les structures problématiques en dehors du texte. Par exemple, lorsqu'il y a des données de médias sociaux, nous pouvons choisir de supprimer les émojis, les liens de pages, etc.\n",
    "\n",
    "Ici, Nous détectons les chiffres via une expression régulière. \\d nous aide à capturer les chiffres.\n"
   ]
  },
  {
   "cell_type": "code",
   "execution_count": 9,
   "metadata": {},
   "outputs": [
    {
     "name": "stdout",
     "output_type": "stream",
     "text": [
      "0                                        happy with it\n",
      "1    good quality material however the panels are m...\n",
      "2    product was fun for bedroom windows.<br />imag...\n",
      "3     lo unico que me gustaria es que sean un poco ...\n",
      "4    great bang for the buck i can't believe the qu...\n",
      "Name: Review, dtype: object\n",
      "0                                        happy with it\n",
      "1    good quality material however the panels are m...\n",
      "2    product was fun for bedroom windows.<br />imag...\n",
      "3     lo unico que me gustaria es que sean un poco ...\n",
      "4    great bang for the buck i can't believe the qu...\n",
      "Name: Review, dtype: object\n"
     ]
    }
   ],
   "source": [
    "print(df['Review'].head())\n",
    "\n",
    "df['Review'] = df['Review'].str.replace('\\d', '')  \n",
    "\n",
    "print(df['Review'].head())\n"
   ]
  },
  {
   "cell_type": "markdown",
   "metadata": {},
   "source": [
    "### Balises HTML"
   ]
  },
  {
   "cell_type": "code",
   "execution_count": 10,
   "metadata": {},
   "outputs": [
    {
     "name": "stdout",
     "output_type": "stream",
     "text": [
      "0                                        happy with it\n",
      "1    good quality material however the panels are m...\n",
      "2    product was fun for bedroom windows.<br />imag...\n",
      "3     lo unico que me gustaria es que sean un poco ...\n",
      "4    great bang for the buck i can't believe the qu...\n",
      "Name: Review, dtype: object\n",
      "0                                        happy with it\n",
      "1    good quality material however the panels are m...\n",
      "2    product was fun for bedroom windows. imagery a...\n",
      "3     lo unico que me gustaria es que sean un poco ...\n",
      "4    great bang for the buck i can't believe the qu...\n",
      "Name: Review, dtype: object\n"
     ]
    }
   ],
   "source": [
    "CLEANR = re.compile('<.*?>') \n",
    "\n",
    "print(df['Review'].head())\n",
    "\n",
    "df['Review'] = df['Review'].apply(lambda x: re.sub(CLEANR, ' ', x))\n",
    "\n",
    "print(df['Review'].head())"
   ]
  },
  {
   "cell_type": "markdown",
   "metadata": {},
   "source": [
    "### Caractère spéciaux"
   ]
  },
  {
   "cell_type": "code",
   "execution_count": 11,
   "metadata": {},
   "outputs": [],
   "source": [
    "clean = re.compile(r'[^a-zA-Z0-9]')\n",
    "df['Review'] = df['Review'].apply(lambda x: re.sub(clean, ' ', x))"
   ]
  },
  {
   "cell_type": "markdown",
   "metadata": {},
   "source": [
    "### Stopword\n",
    "\n",
    "Les mots couramment utilisés dans la langue n'ont pas de mesure. Des expressions telles que diverses conjonctions telles que est, pour, ceci ou divers pronoms n'ont pas de signification métrique. Par conséquent, nous supprimerons ces expressions.\n",
    "\n",
    "Nous devons télécharger « stopwords » de la bibliothèque nltk. Il a été préparé pour l'anglais, il existe également des études pour d'autres langues. Par conséquent, vous pouvez utiliser la langue que vous souhaitez comme argument."
   ]
  },
  {
   "cell_type": "code",
   "execution_count": 12,
   "metadata": {},
   "outputs": [
    {
     "name": "stderr",
     "output_type": "stream",
     "text": [
      "[nltk_data] Downloading package stopwords to\n",
      "[nltk_data]     C:\\Users\\p115302\\AppData\\Roaming\\nltk_data...\n",
      "[nltk_data]   Package stopwords is already up-to-date!\n"
     ]
    }
   ],
   "source": [
    "nltk.download('stopwords')\n",
    "sw = stopwords.words('english')"
   ]
  },
  {
   "cell_type": "code",
   "execution_count": 13,
   "metadata": {},
   "outputs": [
    {
     "data": {
      "text/plain": [
       "0                                                happy\n",
       "1     good quality material however panels mis matched\n",
       "2    product fun bedroom windows imagery bit stretc...\n",
       "3    lo unico que gustaria es que sean un poco mas ...\n",
       "4    great bang buck believe quality material vibra...\n",
       "Name: Review, dtype: object"
      ]
     },
     "execution_count": 13,
     "metadata": {},
     "output_type": "execute_result"
    }
   ],
   "source": [
    "df['Review'] = df['Review'].apply(lambda x: \" \".join(x for x in str(x).split() if x not in sw))\n",
    "df['Review'].head(5)"
   ]
  },
  {
   "cell_type": "markdown",
   "metadata": {},
   "source": [
    "### Lemmatization\n"
   ]
  },
  {
   "cell_type": "code",
   "execution_count": 14,
   "metadata": {},
   "outputs": [
    {
     "name": "stderr",
     "output_type": "stream",
     "text": [
      "[nltk_data] Downloading package wordnet to\n",
      "[nltk_data]     C:\\Users\\p115302\\AppData\\Roaming\\nltk_data...\n",
      "[nltk_data]   Package wordnet is already up-to-date!\n",
      "[nltk_data] Downloading package omw-1.4 to\n",
      "[nltk_data]     C:\\Users\\p115302\\AppData\\Roaming\\nltk_data...\n",
      "[nltk_data]   Package omw-1.4 is already up-to-date!\n"
     ]
    },
    {
     "data": {
      "text/plain": [
       "0                                                happy\n",
       "1       good quality material however panel mi matched\n",
       "2    product fun bedroom window imagery bit stretch...\n",
       "3    lo unico que gustaria e que sean un poco ma la...\n",
       "4    great bang buck believe quality material vibra...\n",
       "Name: Review, dtype: object"
      ]
     },
     "execution_count": 14,
     "metadata": {},
     "output_type": "execute_result"
    }
   ],
   "source": [
    "nltk.download('wordnet')\n",
    "nltk.download('omw-1.4')\n",
    "\n",
    "df['Review'] = df['Review'].apply(lambda x: \" \".join([Word(word).lemmatize() for word in x.split()]))\n",
    "\n",
    "df['Review'].head(5)\n"
   ]
  }
 ],
 "metadata": {
  "kernelspec": {
   "display_name": "Python 3",
   "language": "python",
   "name": "python3"
  },
  "language_info": {
   "codemirror_mode": {
    "name": "ipython",
    "version": 3
   },
   "file_extension": ".py",
   "mimetype": "text/x-python",
   "name": "python",
   "nbconvert_exporter": "python",
   "pygments_lexer": "ipython3",
   "version": "3.12.8"
  }
 },
 "nbformat": 4,
 "nbformat_minor": 2
}
